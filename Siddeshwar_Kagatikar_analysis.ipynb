{
  "cells": [
    {
      "cell_type": "markdown",
      "metadata": {
        "id": "0124742c"
      },
      "source": [
        "# Data Loading\n",
        "This section loads the necessary libraries and the dataset."
      ]
    },
    {
      "cell_type": "code",
      "execution_count": null,
      "metadata": {
        "id": "xsJf1FB74RSA"
      },
      "outputs": [],
      "source": [
        "import pandas as pd\n",
        "import numpy as np\n",
        "import matplotlib.pyplot as plt"
      ]
    },
    {
      "cell_type": "code",
      "execution_count": null,
      "metadata": {
        "colab": {
          "base_uri": "https://localhost:8080/",
          "height": 342
        },
        "id": "4jEs7qEX4mZM",
        "outputId": "e623dc8e-019e-4a4d-ef83-a8c78e77ec0b"
      },
      "outputs": [
        {
          "data": {
            "application/vnd.google.colaboratory.intrinsic+json": {
              "type": "dataframe",
              "variable_name": "df"
            },
            "text/html": [
              "\n",
              "  <div id=\"df-66bbab2d-c57a-4634-b7a6-0d2ed93a054d\" class=\"colab-df-container\">\n",
              "    <div>\n",
              "<style scoped>\n",
              "    .dataframe tbody tr th:only-of-type {\n",
              "        vertical-align: middle;\n",
              "    }\n",
              "\n",
              "    .dataframe tbody tr th {\n",
              "        vertical-align: top;\n",
              "    }\n",
              "\n",
              "    .dataframe thead th {\n",
              "        text-align: right;\n",
              "    }\n",
              "</style>\n",
              "<table border=\"1\" class=\"dataframe\">\n",
              "  <thead>\n",
              "    <tr style=\"text-align: right;\">\n",
              "      <th></th>\n",
              "      <th>trip_ID</th>\n",
              "      <th>visitor_nation</th>\n",
              "      <th>age_bracket</th>\n",
              "      <th>travelling_with</th>\n",
              "      <th>female_count</th>\n",
              "      <th>male_count</th>\n",
              "      <th>key_activity</th>\n",
              "      <th>trip_purpose</th>\n",
              "      <th>first_time_visitor</th>\n",
              "      <th>mainland_nights</th>\n",
              "      <th>...</th>\n",
              "      <th>food_package</th>\n",
              "      <th>transport_package_mx</th>\n",
              "      <th>sightseeing_package</th>\n",
              "      <th>guided_tour_package</th>\n",
              "      <th>insurance_package</th>\n",
              "      <th>days_before_booked</th>\n",
              "      <th>weather_at_arrival</th>\n",
              "      <th>tour_length</th>\n",
              "      <th>special_requirements</th>\n",
              "      <th>category</th>\n",
              "    </tr>\n",
              "  </thead>\n",
              "  <tbody>\n",
              "    <tr>\n",
              "      <th>0</th>\n",
              "      <td>tour_idftaa27vp</td>\n",
              "      <td>FRANCE</td>\n",
              "      <td>45-64</td>\n",
              "      <td>With Spouse and Children</td>\n",
              "      <td>1.0</td>\n",
              "      <td>2.0</td>\n",
              "      <td>Beach Tourism</td>\n",
              "      <td>Leisure and Holidays</td>\n",
              "      <td>Yes</td>\n",
              "      <td>0</td>\n",
              "      <td>...</td>\n",
              "      <td>No</td>\n",
              "      <td>No</td>\n",
              "      <td>No</td>\n",
              "      <td>No</td>\n",
              "      <td>No</td>\n",
              "      <td>NaN</td>\n",
              "      <td>cloudy,</td>\n",
              "      <td>30+</td>\n",
              "      <td>NaN</td>\n",
              "      <td>1.0</td>\n",
              "    </tr>\n",
              "    <tr>\n",
              "      <th>1</th>\n",
              "      <td>tour_iduck75m57</td>\n",
              "      <td>KENYA</td>\n",
              "      <td>45-64</td>\n",
              "      <td>Alone</td>\n",
              "      <td>1.0</td>\n",
              "      <td>0.0</td>\n",
              "      <td>Conference Tourism</td>\n",
              "      <td>Meetings and Conference</td>\n",
              "      <td>Yes</td>\n",
              "      <td>6</td>\n",
              "      <td>...</td>\n",
              "      <td>No</td>\n",
              "      <td>No</td>\n",
              "      <td>No</td>\n",
              "      <td>No</td>\n",
              "      <td>No</td>\n",
              "      <td>15-30</td>\n",
              "      <td>sunny,</td>\n",
              "      <td>30+</td>\n",
              "      <td>NaN</td>\n",
              "      <td>2.0</td>\n",
              "    </tr>\n",
              "    <tr>\n",
              "      <th>2</th>\n",
              "      <td>tour_id8y3w40h8</td>\n",
              "      <td>SOUTH AFRICA</td>\n",
              "      <td>25-44</td>\n",
              "      <td>With Other Friends/Relatives</td>\n",
              "      <td>2.0</td>\n",
              "      <td>0.0</td>\n",
              "      <td>Cultural Tourism</td>\n",
              "      <td>Meetings and Conference</td>\n",
              "      <td>No</td>\n",
              "      <td>4</td>\n",
              "      <td>...</td>\n",
              "      <td>No</td>\n",
              "      <td>No</td>\n",
              "      <td>No</td>\n",
              "      <td>No</td>\n",
              "      <td>No</td>\n",
              "      <td>90+</td>\n",
              "      <td>sunny,</td>\n",
              "      <td>30+</td>\n",
              "      <td>none</td>\n",
              "      <td>2.0</td>\n",
              "    </tr>\n",
              "    <tr>\n",
              "      <th>3</th>\n",
              "      <td>tour_idkoh8mkgr</td>\n",
              "      <td>ITALY</td>\n",
              "      <td>25-44</td>\n",
              "      <td>With Spouse</td>\n",
              "      <td>1.0</td>\n",
              "      <td>1.0</td>\n",
              "      <td>Widlife Tourism</td>\n",
              "      <td>Leisure and Holidays</td>\n",
              "      <td>Yes</td>\n",
              "      <td>0</td>\n",
              "      <td>...</td>\n",
              "      <td>Yes</td>\n",
              "      <td>Yes</td>\n",
              "      <td>Yes</td>\n",
              "      <td>Yes</td>\n",
              "      <td>No</td>\n",
              "      <td>8-14</td>\n",
              "      <td>NaN</td>\n",
              "      <td>NaN</td>\n",
              "      <td>none</td>\n",
              "      <td>0.0</td>\n",
              "    </tr>\n",
              "    <tr>\n",
              "      <th>4</th>\n",
              "      <td>tour_idkmsfa00a</td>\n",
              "      <td>ITALY</td>\n",
              "      <td>25-44</td>\n",
              "      <td>With Spouse</td>\n",
              "      <td>1.0</td>\n",
              "      <td>1.0</td>\n",
              "      <td>Beach Tourism</td>\n",
              "      <td>Leisure and Holidays</td>\n",
              "      <td>Yes</td>\n",
              "      <td>0</td>\n",
              "      <td>...</td>\n",
              "      <td>Yes</td>\n",
              "      <td>No</td>\n",
              "      <td>No</td>\n",
              "      <td>No</td>\n",
              "      <td>No</td>\n",
              "      <td>90+</td>\n",
              "      <td>sunny,</td>\n",
              "      <td>7-14</td>\n",
              "      <td>NaN</td>\n",
              "      <td>0.0</td>\n",
              "    </tr>\n",
              "  </tbody>\n",
              "</table>\n",
              "<p>5 rows × 25 columns</p>\n",
              "</div>\n",
              "    <div class=\"colab-df-buttons\">\n",
              "\n",
              "  <div class=\"colab-df-container\">\n",
              "    <button class=\"colab-df-convert\" onclick=\"convertToInteractive('df-66bbab2d-c57a-4634-b7a6-0d2ed93a054d')\"\n",
              "            title=\"Convert this dataframe to an interactive table.\"\n",
              "            style=\"display:none;\">\n",
              "\n",
              "  <svg xmlns=\"http://www.w3.org/2000/svg\" height=\"24px\" viewBox=\"0 -960 960 960\">\n",
              "    <path d=\"M120-120v-720h720v720H120Zm60-500h600v-160H180v160Zm220 220h160v-160H400v160Zm0 220h160v-160H400v160ZM180-400h160v-160H180v160Zm440 0h160v-160H620v160ZM180-180h160v-160H180v160Zm440 0h160v-160H620v160Z\"/>\n",
              "  </svg>\n",
              "    </button>\n",
              "\n",
              "  <style>\n",
              "    .colab-df-container {\n",
              "      display:flex;\n",
              "      gap: 12px;\n",
              "    }\n",
              "\n",
              "    .colab-df-convert {\n",
              "      background-color: #E8F0FE;\n",
              "      border: none;\n",
              "      border-radius: 50%;\n",
              "      cursor: pointer;\n",
              "      display: none;\n",
              "      fill: #1967D2;\n",
              "      height: 32px;\n",
              "      padding: 0 0 0 0;\n",
              "      width: 32px;\n",
              "    }\n",
              "\n",
              "    .colab-df-convert:hover {\n",
              "      background-color: #E2EBFA;\n",
              "      box-shadow: 0px 1px 2px rgba(60, 64, 67, 0.3), 0px 1px 3px 1px rgba(60, 64, 67, 0.15);\n",
              "      fill: #174EA6;\n",
              "    }\n",
              "\n",
              "    .colab-df-buttons div {\n",
              "      margin-bottom: 4px;\n",
              "    }\n",
              "\n",
              "    [theme=dark] .colab-df-convert {\n",
              "      background-color: #3B4455;\n",
              "      fill: #D2E3FC;\n",
              "    }\n",
              "\n",
              "    [theme=dark] .colab-df-convert:hover {\n",
              "      background-color: #434B5C;\n",
              "      box-shadow: 0px 1px 3px 1px rgba(0, 0, 0, 0.15);\n",
              "      filter: drop-shadow(0px 1px 2px rgba(0, 0, 0, 0.3));\n",
              "      fill: #FFFFFF;\n",
              "    }\n",
              "  </style>\n",
              "\n",
              "    <script>\n",
              "      const buttonEl =\n",
              "        document.querySelector('#df-66bbab2d-c57a-4634-b7a6-0d2ed93a054d button.colab-df-convert');\n",
              "      buttonEl.style.display =\n",
              "        google.colab.kernel.accessAllowed ? 'block' : 'none';\n",
              "\n",
              "      async function convertToInteractive(key) {\n",
              "        const element = document.querySelector('#df-66bbab2d-c57a-4634-b7a6-0d2ed93a054d');\n",
              "        const dataTable =\n",
              "          await google.colab.kernel.invokeFunction('convertToInteractive',\n",
              "                                                    [key], {});\n",
              "        if (!dataTable) return;\n",
              "\n",
              "        const docLinkHtml = 'Like what you see? Visit the ' +\n",
              "          '<a target=\"_blank\" href=https://colab.research.google.com/notebooks/data_table.ipynb>data table notebook</a>'\n",
              "          + ' to learn more about interactive tables.';\n",
              "        element.innerHTML = '';\n",
              "        dataTable['output_type'] = 'display_data';\n",
              "        await google.colab.output.renderOutput(dataTable, element);\n",
              "        const docLink = document.createElement('div');\n",
              "        docLink.innerHTML = docLinkHtml;\n",
              "        element.appendChild(docLink);\n",
              "      }\n",
              "    </script>\n",
              "  </div>\n",
              "\n",
              "\n",
              "<div id=\"df-26561903-09b8-4cbe-8e10-d41a19f73e21\">\n",
              "  <button class=\"colab-df-quickchart\" onclick=\"quickchart('df-26561903-09b8-4cbe-8e10-d41a19f73e21')\"\n",
              "            title=\"Suggest charts\"\n",
              "            style=\"display:none;\">\n",
              "\n",
              "<svg xmlns=\"http://www.w3.org/2000/svg\" height=\"24px\"viewBox=\"0 0 24 24\"\n",
              "     width=\"24px\">\n",
              "    <g>\n",
              "        <path d=\"M19 3H5c-1.1 0-2 .9-2 2v14c0 1.1.9 2 2 2h14c1.1 0 2-.9 2-2V5c0-1.1-.9-2-2-2zM9 17H7v-7h2v7zm4 0h-2V7h2v10zm4 0h-2v-4h2v4z\"/>\n",
              "    </g>\n",
              "</svg>\n",
              "  </button>\n",
              "\n",
              "<style>\n",
              "  .colab-df-quickchart {\n",
              "      --bg-color: #E8F0FE;\n",
              "      --fill-color: #1967D2;\n",
              "      --hover-bg-color: #E2EBFA;\n",
              "      --hover-fill-color: #174EA6;\n",
              "      --disabled-fill-color: #AAA;\n",
              "      --disabled-bg-color: #DDD;\n",
              "  }\n",
              "\n",
              "  [theme=dark] .colab-df-quickchart {\n",
              "      --bg-color: #3B4455;\n",
              "      --fill-color: #D2E3FC;\n",
              "      --hover-bg-color: #434B5C;\n",
              "      --hover-fill-color: #FFFFFF;\n",
              "      --disabled-bg-color: #3B4455;\n",
              "      --disabled-fill-color: #666;\n",
              "  }\n",
              "\n",
              "  .colab-df-quickchart {\n",
              "    background-color: var(--bg-color);\n",
              "    border: none;\n",
              "    border-radius: 50%;\n",
              "    cursor: pointer;\n",
              "    display: none;\n",
              "    fill: var(--fill-color);\n",
              "    height: 32px;\n",
              "    padding: 0;\n",
              "    width: 32px;\n",
              "  }\n",
              "\n",
              "  .colab-df-quickchart:hover {\n",
              "    background-color: var(--hover-bg-color);\n",
              "    box-shadow: 0 1px 2px rgba(60, 64, 67, 0.3), 0 1px 3px 1px rgba(60, 64, 67, 0.15);\n",
              "    fill: var(--button-hover-fill-color);\n",
              "  }\n",
              "\n",
              "  .colab-df-quickchart-complete:disabled,\n",
              "  .colab-df-quickchart-complete:disabled:hover {\n",
              "    background-color: var(--disabled-bg-color);\n",
              "    fill: var(--disabled-fill-color);\n",
              "    box-shadow: none;\n",
              "  }\n",
              "\n",
              "  .colab-df-spinner {\n",
              "    border: 2px solid var(--fill-color);\n",
              "    border-color: transparent;\n",
              "    border-bottom-color: var(--fill-color);\n",
              "    animation:\n",
              "      spin 1s steps(1) infinite;\n",
              "  }\n",
              "\n",
              "  @keyframes spin {\n",
              "    0% {\n",
              "      border-color: transparent;\n",
              "      border-bottom-color: var(--fill-color);\n",
              "      border-left-color: var(--fill-color);\n",
              "    }\n",
              "    20% {\n",
              "      border-color: transparent;\n",
              "      border-left-color: var(--fill-color);\n",
              "      border-top-color: var(--fill-color);\n",
              "    }\n",
              "    30% {\n",
              "      border-color: transparent;\n",
              "      border-left-color: var(--fill-color);\n",
              "      border-top-color: var(--fill-color);\n",
              "      border-right-color: var(--fill-color);\n",
              "    }\n",
              "    40% {\n",
              "      border-color: transparent;\n",
              "      border-right-color: var(--fill-color);\n",
              "      border-top-color: var(--fill-color);\n",
              "    }\n",
              "    60% {\n",
              "      border-color: transparent;\n",
              "      border-right-color: var(--fill-color);\n",
              "    }\n",
              "    80% {\n",
              "      border-color: transparent;\n",
              "      border-right-color: var(--fill-color);\n",
              "      border-bottom-color: var(--fill-color);\n",
              "    }\n",
              "    90% {\n",
              "      border-color: transparent;\n",
              "      border-bottom-color: var(--fill-color);\n",
              "    }\n",
              "  }\n",
              "</style>\n",
              "\n",
              "  <script>\n",
              "    async function quickchart(key) {\n",
              "      const quickchartButtonEl =\n",
              "        document.querySelector('#' + key + ' button');\n",
              "      quickchartButtonEl.disabled = true;  // To prevent multiple clicks.\n",
              "      quickchartButtonEl.classList.add('colab-df-spinner');\n",
              "      try {\n",
              "        const charts = await google.colab.kernel.invokeFunction(\n",
              "            'suggestCharts', [key], {});\n",
              "      } catch (error) {\n",
              "        console.error('Error during call to suggestCharts:', error);\n",
              "      }\n",
              "      quickchartButtonEl.classList.remove('colab-df-spinner');\n",
              "      quickchartButtonEl.classList.add('colab-df-quickchart-complete');\n",
              "    }\n",
              "    (() => {\n",
              "      let quickchartButtonEl =\n",
              "        document.querySelector('#df-26561903-09b8-4cbe-8e10-d41a19f73e21 button');\n",
              "      quickchartButtonEl.style.display =\n",
              "        google.colab.kernel.accessAllowed ? 'block' : 'none';\n",
              "    })();\n",
              "  </script>\n",
              "</div>\n",
              "\n",
              "    </div>\n",
              "  </div>\n"
            ],
            "text/plain": [
              "           trip_ID visitor_nation age_bracket               travelling_with  \\\n",
              "0  tour_idftaa27vp         FRANCE       45-64      With Spouse and Children   \n",
              "1  tour_iduck75m57          KENYA       45-64                         Alone   \n",
              "2  tour_id8y3w40h8   SOUTH AFRICA       25-44  With Other Friends/Relatives   \n",
              "3  tour_idkoh8mkgr          ITALY       25-44                   With Spouse   \n",
              "4  tour_idkmsfa00a          ITALY       25-44                   With Spouse   \n",
              "\n",
              "   female_count  male_count        key_activity             trip_purpose  \\\n",
              "0           1.0         2.0       Beach Tourism     Leisure and Holidays   \n",
              "1           1.0         0.0  Conference Tourism  Meetings and Conference   \n",
              "2           2.0         0.0    Cultural Tourism  Meetings and Conference   \n",
              "3           1.0         1.0     Widlife Tourism     Leisure and Holidays   \n",
              "4           1.0         1.0       Beach Tourism     Leisure and Holidays   \n",
              "\n",
              "  first_time_visitor  mainland_nights  ...  food_package transport_package_mx  \\\n",
              "0                Yes                0  ...            No                   No   \n",
              "1                Yes                6  ...            No                   No   \n",
              "2                 No                4  ...            No                   No   \n",
              "3                Yes                0  ...           Yes                  Yes   \n",
              "4                Yes                0  ...           Yes                   No   \n",
              "\n",
              "  sightseeing_package guided_tour_package insurance_package  \\\n",
              "0                  No                  No                No   \n",
              "1                  No                  No                No   \n",
              "2                  No                  No                No   \n",
              "3                 Yes                 Yes                No   \n",
              "4                  No                  No                No   \n",
              "\n",
              "  days_before_booked weather_at_arrival tour_length special_requirements  \\\n",
              "0                NaN            cloudy,         30+                  NaN   \n",
              "1             15-30              sunny,         30+                  NaN   \n",
              "2                90+             sunny,         30+                 none   \n",
              "3               8-14                NaN         NaN                 none   \n",
              "4                90+             sunny,        7-14                  NaN   \n",
              "\n",
              "  category  \n",
              "0      1.0  \n",
              "1      2.0  \n",
              "2      2.0  \n",
              "3      0.0  \n",
              "4      0.0  \n",
              "\n",
              "[5 rows x 25 columns]"
            ]
          },
          "execution_count": 3,
          "metadata": {},
          "output_type": "execute_result"
        }
      ],
      "source": [
        "df = pd.read_csv('/content/train.csv')\n",
        "df.head()"
      ]
    },
    {
      "cell_type": "code",
      "execution_count": null,
      "metadata": {
        "colab": {
          "base_uri": "https://localhost:8080/",
          "height": 720
        },
        "id": "ZWBZ9YCjVxvH",
        "outputId": "af2c6da4-e1a0-4c87-c0c5-799eb5dc7902"
      },
      "outputs": [
        {
          "data": {
            "image/png": "[encoded data removed]",
            "text/plain": [
              "<Figure size 1200x600 with 1 Axes>"
            ]
          },
          "metadata": {},
          "output_type": "display_data"
        }
      ],
      "source": [
        "null_percent = df.isnull().mean() * 100  # Calculate the percentage of null values\n",
        "null_percent = null_percent[null_percent > 0]  # Filter only columns with null values\n",
        "\n",
        "# Plotting\n",
        "plt.figure(figsize=(12, 6))\n",
        "null_percent.sort_values().plot(kind='bar', color='skyblue')\n",
        "plt.title('Percentage of Null Values in Each Column')\n",
        "plt.xlabel('Columns')\n",
        "plt.ylabel('Percentage of Null Values (%)')\n",
        "plt.xticks(rotation=45, ha='right')\n",
        "plt.show()"
      ]
    },
    {
      "cell_type": "code",
      "execution_count": null,
      "metadata": {
        "colab": {
          "base_uri": "https://localhost:8080/"
        },
        "id": "WPFW1e3t4qaJ",
        "outputId": "90bc9da0-f98b-43d7-a9a5-67eb702ea8b3"
      },
      "outputs": [
        {
          "data": {
            "text/plain": [
              "0"
            ]
          },
          "execution_count": 86,
          "metadata": {},
          "output_type": "execute_result"
        }
      ],
      "source": [
        "df.duplicated().sum()"
      ]
    },
    {
      "cell_type": "code",
      "execution_count": null,
      "metadata": {
        "colab": {
          "base_uri": "https://localhost:8080/"
        },
        "id": "C8LnrjTu-O0b",
        "outputId": "c7ba6646-494a-4f18-c2a0-f1ef63d41b4f"
      },
      "outputs": [
        {
          "data": {
            "text/plain": [
              "(12654, 25)"
            ]
          },
          "execution_count": 87,
          "metadata": {},
          "output_type": "execute_result"
        }
      ],
      "source": [
        "df.shape"
      ]
    },
    {
      "cell_type": "code",
      "execution_count": null,
      "metadata": {
        "colab": {
          "base_uri": "https://localhost:8080/",
          "height": 521
        },
        "id": "cPmbjVcrV8mF",
        "outputId": "748a126d-b957-401d-8cc7-4aa3876513cb"
      },
      "outputs": [
        {
          "data": {
            "image/png": "[encoded data removed]",
            "text/plain": [
              "<Figure size 600x600 with 1 Axes>"
            ]
          },
          "metadata": {},
          "output_type": "display_data"
        }
      ],
      "source": [
        "num_cols = df.select_dtypes(include=['number']).shape[1]\n",
        "cat_cols = df.select_dtypes(include=['object', 'category']).shape[1]\n",
        "\n",
        "# Calculate the percentage\n",
        "total_cols = df.shape[1]\n",
        "percentages = [num_cols / total_cols * 100, cat_cols / total_cols * 100]\n",
        "labels = ['Numerical', 'Categorical']\n",
        "\n",
        "# Plotting\n",
        "plt.figure(figsize=(6, 6))\n",
        "plt.pie(percentages, labels=labels, autopct='%1.1f%%', startangle=140, colors=['skyblue', 'salmon'])\n",
        "plt.title('Percentage of Numerical vs Categorical Data')\n",
        "plt.show()"
      ]
    },
    {
      "cell_type": "code",
      "execution_count": null,
      "metadata": {
        "colab": {
          "base_uri": "https://localhost:8080/"
        },
        "id": "5q9ObaCn9pcT",
        "outputId": "9cf5694a-cfb3-4806-d260-9af33de894a2"
      },
      "outputs": [
        {
          "name": "stderr",
          "output_type": "stream",
          "text": [
            "<ipython-input-88-af1c8b6607d6>:1: FutureWarning: A value is trying to be set on a copy of a DataFrame or Series through chained assignment using an inplace method.\n",
            "The behavior will change in pandas 3.0. This inplace method will never work because the intermediate object on which we are setting values always behaves as a copy.\n",
            "\n",
            "For example, when doing 'df[col].method(value, inplace=True)', try using 'df.method({col: value}, inplace=True)' or df[col] = df[col].method(value) instead, to perform the operation inplace on the original object.\n",
            "\n",
            "\n",
            "  df['special_requirements'].fillna('None', inplace=True)\n"
          ]
        }
      ],
      "source": [
        "df['special_requirements'].fillna('None', inplace=True)"
      ]
    },
    {
      "cell_type": "code",
      "execution_count": null,
      "metadata": {
        "colab": {
          "base_uri": "https://localhost:8080/"
        },
        "id": "DCJjDRA4-Voc",
        "outputId": "0e104acb-b1e5-4225-d33a-26f0340c8904"
      },
      "outputs": [
        {
          "name": "stderr",
          "output_type": "stream",
          "text": [
            "<ipython-input-89-2f905c86ec6b>:2: FutureWarning: A value is trying to be set on a copy of a DataFrame or Series through chained assignment using an inplace method.\n",
            "The behavior will change in pandas 3.0. This inplace method will never work because the intermediate object on which we are setting values always behaves as a copy.\n",
            "\n",
            "For example, when doing 'df[col].method(value, inplace=True)', try using 'df.method({col: value}, inplace=True)' or df[col] = df[col].method(value) instead, to perform the operation inplace on the original object.\n",
            "\n",
            "\n",
            "  df['age_bracket'].fillna(mode_age_bracket, inplace=True)\n"
          ]
        }
      ],
      "source": [
        "mode_age_bracket = df['age_bracket'].mode()[0]\n",
        "df['age_bracket'].fillna(mode_age_bracket, inplace=True)"
      ]
    },
    {
      "cell_type": "code",
      "execution_count": null,
      "metadata": {
        "colab": {
          "base_uri": "https://localhost:8080/"
        },
        "id": "8doqMZ_TKLqF",
        "outputId": "873aaf87-ce44-4928-876f-c11a83e8ef66"
      },
      "outputs": [
        {
          "name": "stderr",
          "output_type": "stream",
          "text": [
            "<ipython-input-90-0a87ced0a0be>:2: FutureWarning: A value is trying to be set on a copy of a DataFrame or Series through chained assignment using an inplace method.\n",
            "The behavior will change in pandas 3.0. This inplace method will never work because the intermediate object on which we are setting values always behaves as a copy.\n",
            "\n",
            "For example, when doing 'df[col].method(value, inplace=True)', try using 'df.method({col: value}, inplace=True)' or df[col] = df[col].method(value) instead, to perform the operation inplace on the original object.\n",
            "\n",
            "\n",
            "  df['first_time_visitor'].fillna(mode_age_bracket, inplace=True)\n"
          ]
        }
      ],
      "source": [
        "mode_age_bracket = df['first_time_visitor'].mode()[0]\n",
        "df['first_time_visitor'].fillna(mode_age_bracket, inplace=True)"
      ]
    },
    {
      "cell_type": "markdown",
      "metadata": {
        "id": "cb5d3922"
      },
      "source": [
        "# Data Preprocessing\n",
        "Steps to clean and preprocess the data for analysis and modeling."
      ]
    },
    {
      "cell_type": "code",
      "execution_count": null,
      "metadata": {
        "colab": {
          "base_uri": "https://localhost:8080/"
        },
        "id": "kWJN9ZYXKMOw",
        "outputId": "726dae65-52db-43ad-bfe2-04c1eefedff0"
      },
      "outputs": [
        {
          "name": "stderr",
          "output_type": "stream",
          "text": [
            "<ipython-input-91-feb71e48a6df>:2: FutureWarning: A value is trying to be set on a copy of a DataFrame or Series through chained assignment using an inplace method.\n",
            "The behavior will change in pandas 3.0. This inplace method will never work because the intermediate object on which we are setting values always behaves as a copy.\n",
            "\n",
            "For example, when doing 'df[col].method(value, inplace=True)', try using 'df.method({col: value}, inplace=True)' or df[col] = df[col].method(value) instead, to perform the operation inplace on the original object.\n",
            "\n",
            "\n",
            "  df['key_activity'].fillna(mode_age_bracket, inplace=True)\n"
          ]
        }
      ],
      "source": [
        "mode_age_bracket = df['key_activity'].mode()[0]\n",
        "df['key_activity'].fillna(mode_age_bracket, inplace=True)"
      ]
    },
    {
      "cell_type": "code",
      "execution_count": null,
      "metadata": {
        "colab": {
          "base_uri": "https://localhost:8080/"
        },
        "id": "bD0N0i9T_OuX",
        "outputId": "c8f49b6d-495b-4d64-a41a-c16333514db3"
      },
      "outputs": [
        {
          "name": "stderr",
          "output_type": "stream",
          "text": [
            "<ipython-input-92-c1f16ce368ad>:1: FutureWarning: A value is trying to be set on a copy of a DataFrame or Series through chained assignment using an inplace method.\n",
            "The behavior will change in pandas 3.0. This inplace method will never work because the intermediate object on which we are setting values always behaves as a copy.\n",
            "\n",
            "For example, when doing 'df[col].method(value, inplace=True)', try using 'df.method({col: value}, inplace=True)' or df[col] = df[col].method(value) instead, to perform the operation inplace on the original object.\n",
            "\n",
            "\n",
            "  df['travelling_with'].fillna('Not Specified', inplace=True)\n",
            "<ipython-input-92-c1f16ce368ad>:2: FutureWarning: A value is trying to be set on a copy of a DataFrame or Series through chained assignment using an inplace method.\n",
            "The behavior will change in pandas 3.0. This inplace method will never work because the intermediate object on which we are setting values always behaves as a copy.\n",
            "\n",
            "For example, when doing 'df[col].method(value, inplace=True)', try using 'df.method({col: value}, inplace=True)' or df[col] = df[col].method(value) instead, to perform the operation inplace on the original object.\n",
            "\n",
            "\n",
            "  df['visitor_nation'].fillna('Unknown', inplace=True)\n"
          ]
        }
      ],
      "source": [
        "df['travelling_with'].fillna('Not Specified', inplace=True)\n",
        "df['visitor_nation'].fillna('Unknown', inplace=True)"
      ]
    },
    {
      "cell_type": "code",
      "execution_count": null,
      "metadata": {
        "colab": {
          "base_uri": "https://localhost:8080/"
        },
        "id": "L6yVckiSBgnf",
        "outputId": "1082c541-a9e2-4fdf-8b85-b98e89cf15a8"
      },
      "outputs": [
        {
          "name": "stderr",
          "output_type": "stream",
          "text": [
            "<ipython-input-93-af6c1ec029f0>:1: FutureWarning: A value is trying to be set on a copy of a DataFrame or Series through chained assignment using an inplace method.\n",
            "The behavior will change in pandas 3.0. This inplace method will never work because the intermediate object on which we are setting values always behaves as a copy.\n",
            "\n",
            "For example, when doing 'df[col].method(value, inplace=True)', try using 'df.method({col: value}, inplace=True)' or df[col] = df[col].method(value) instead, to perform the operation inplace on the original object.\n",
            "\n",
            "\n",
            "  df['days_before_booked'].fillna('Unknown', inplace=True)\n"
          ]
        }
      ],
      "source": [
        "df['days_before_booked'].fillna('Unknown', inplace=True)"
      ]
    },
    {
      "cell_type": "code",
      "execution_count": null,
      "metadata": {
        "id": "ebpw0iaxCcJh"
      },
      "outputs": [],
      "source": [
        "df['total_group_size'] = df['female_count'] + df['male_count']\n",
        "df['total_nights'] = df['mainland_nights'] + df['island_nights']\n"
      ]
    },
    {
      "cell_type": "code",
      "execution_count": null,
      "metadata": {
        "colab": {
          "base_uri": "https://localhost:8080/"
        },
        "id": "LuHXJnsIDLhH",
        "outputId": "c3621d1c-1b77-4a8d-cf77-2eb975d30d18"
      },
      "outputs": [
        {
          "name": "stderr",
          "output_type": "stream",
          "text": [
            "<ipython-input-95-82cf2a72767d>:5: FutureWarning: A value is trying to be set on a copy of a DataFrame or Series through chained assignment using an inplace method.\n",
            "The behavior will change in pandas 3.0. This inplace method will never work because the intermediate object on which we are setting values always behaves as a copy.\n",
            "\n",
            "For example, when doing 'df[col].method(value, inplace=True)', try using 'df.method({col: value}, inplace=True)' or df[col] = df[col].method(value) instead, to perform the operation inplace on the original object.\n",
            "\n",
            "\n",
            "  group['weather_at_arrival'].fillna(mode_value[0], inplace=True)\n",
            "<ipython-input-95-82cf2a72767d>:9: DeprecationWarning: DataFrameGroupBy.apply operated on the grouping columns. This behavior is deprecated, and in a future version of pandas the grouping columns will be excluded from the operation. Either pass `include_groups=False` to exclude the groupings or explicitly select the grouping columns after groupby to silence this warning.\n",
            "  df = df.groupby('visitor_nation').apply(fill_with_group_mode)\n"
          ]
        }
      ],
      "source": [
        "# Define a function to fill NaNs with the mode of each group\n",
        "def fill_with_group_mode(group):\n",
        "    mode_value = group['weather_at_arrival'].mode()\n",
        "    if not mode_value.empty:\n",
        "        group['weather_at_arrival'].fillna(mode_value[0], inplace=True)\n",
        "    return group\n",
        "\n",
        "# Apply the function to each group of visitor_nation\n",
        "df = df.groupby('visitor_nation').apply(fill_with_group_mode)"
      ]
    },
    {
      "cell_type": "code",
      "execution_count": null,
      "metadata": {
        "colab": {
          "base_uri": "https://localhost:8080/",
          "height": 930
        },
        "id": "hIK7fEFA4ufs",
        "outputId": "36d0fc94-e09f-4cfe-c9dd-393cfff2b41c"
      },
      "outputs": [
        {
          "data": {
            "text/html": [
              "<div>\n",
              "<style scoped>\n",
              "    .dataframe tbody tr th:only-of-type {\n",
              "        vertical-align: middle;\n",
              "    }\n",
              "\n",
              "    .dataframe tbody tr th {\n",
              "        vertical-align: top;\n",
              "    }\n",
              "\n",
              "    .dataframe thead th {\n",
              "        text-align: right;\n",
              "    }\n",
              "</style>\n",
              "<table border=\"1\" class=\"dataframe\">\n",
              "  <thead>\n",
              "    <tr style=\"text-align: right;\">\n",
              "      <th></th>\n",
              "      <th>0</th>\n",
              "    </tr>\n",
              "  </thead>\n",
              "  <tbody>\n",
              "    <tr>\n",
              "      <th>trip_ID</th>\n",
              "      <td>0</td>\n",
              "    </tr>\n",
              "    <tr>\n",
              "      <th>visitor_nation</th>\n",
              "      <td>0</td>\n",
              "    </tr>\n",
              "    <tr>\n",
              "      <th>age_bracket</th>\n",
              "      <td>0</td>\n",
              "    </tr>\n",
              "    <tr>\n",
              "      <th>travelling_with</th>\n",
              "      <td>0</td>\n",
              "    </tr>\n",
              "    <tr>\n",
              "      <th>female_count</th>\n",
              "      <td>2</td>\n",
              "    </tr>\n",
              "    <tr>\n",
              "      <th>male_count</th>\n",
              "      <td>4</td>\n",
              "    </tr>\n",
              "    <tr>\n",
              "      <th>key_activity</th>\n",
              "      <td>0</td>\n",
              "    </tr>\n",
              "    <tr>\n",
              "      <th>trip_purpose</th>\n",
              "      <td>0</td>\n",
              "    </tr>\n",
              "    <tr>\n",
              "      <th>first_time_visitor</th>\n",
              "      <td>0</td>\n",
              "    </tr>\n",
              "    <tr>\n",
              "      <th>mainland_nights</th>\n",
              "      <td>0</td>\n",
              "    </tr>\n",
              "    <tr>\n",
              "      <th>island_nights</th>\n",
              "      <td>0</td>\n",
              "    </tr>\n",
              "    <tr>\n",
              "      <th>tour_arrangement</th>\n",
              "      <td>0</td>\n",
              "    </tr>\n",
              "    <tr>\n",
              "      <th>transport_package_international</th>\n",
              "      <td>147</td>\n",
              "    </tr>\n",
              "    <tr>\n",
              "      <th>source_of_info</th>\n",
              "      <td>0</td>\n",
              "    </tr>\n",
              "    <tr>\n",
              "      <th>package_accomodation</th>\n",
              "      <td>143</td>\n",
              "    </tr>\n",
              "    <tr>\n",
              "      <th>food_package</th>\n",
              "      <td>171</td>\n",
              "    </tr>\n",
              "    <tr>\n",
              "      <th>transport_package_mx</th>\n",
              "      <td>0</td>\n",
              "    </tr>\n",
              "    <tr>\n",
              "      <th>sightseeing_package</th>\n",
              "      <td>0</td>\n",
              "    </tr>\n",
              "    <tr>\n",
              "      <th>guided_tour_package</th>\n",
              "      <td>0</td>\n",
              "    </tr>\n",
              "    <tr>\n",
              "      <th>insurance_package</th>\n",
              "      <td>236</td>\n",
              "    </tr>\n",
              "    <tr>\n",
              "      <th>days_before_booked</th>\n",
              "      <td>0</td>\n",
              "    </tr>\n",
              "    <tr>\n",
              "      <th>weather_at_arrival</th>\n",
              "      <td>7</td>\n",
              "    </tr>\n",
              "    <tr>\n",
              "      <th>tour_length</th>\n",
              "      <td>402</td>\n",
              "    </tr>\n",
              "    <tr>\n",
              "      <th>special_requirements</th>\n",
              "      <td>0</td>\n",
              "    </tr>\n",
              "    <tr>\n",
              "      <th>category</th>\n",
              "      <td>34</td>\n",
              "    </tr>\n",
              "    <tr>\n",
              "      <th>total_group_size</th>\n",
              "      <td>6</td>\n",
              "    </tr>\n",
              "    <tr>\n",
              "      <th>total_nights</th>\n",
              "      <td>0</td>\n",
              "    </tr>\n",
              "  </tbody>\n",
              "</table>\n",
              "</div><br><label><b>dtype:</b> int64</label>"
            ],
            "text/plain": [
              "trip_ID                              0\n",
              "visitor_nation                       0\n",
              "age_bracket                          0\n",
              "travelling_with                      0\n",
              "female_count                         2\n",
              "male_count                           4\n",
              "key_activity                         0\n",
              "trip_purpose                         0\n",
              "first_time_visitor                   0\n",
              "mainland_nights                      0\n",
              "island_nights                        0\n",
              "tour_arrangement                     0\n",
              "transport_package_international    147\n",
              "source_of_info                       0\n",
              "package_accomodation               143\n",
              "food_package                       171\n",
              "transport_package_mx                 0\n",
              "sightseeing_package                  0\n",
              "guided_tour_package                  0\n",
              "insurance_package                  236\n",
              "days_before_booked                   0\n",
              "weather_at_arrival                   7\n",
              "tour_length                        402\n",
              "special_requirements                 0\n",
              "category                            34\n",
              "total_group_size                     6\n",
              "total_nights                         0\n",
              "dtype: int64"
            ]
          },
          "execution_count": 96,
          "metadata": {},
          "output_type": "execute_result"
        }
      ],
      "source": [
        "df.isnull().sum()"
      ]
    },
    {
      "cell_type": "code",
      "execution_count": null,
      "metadata": {
        "colab": {
          "base_uri": "https://localhost:8080/",
          "height": 468
        },
        "id": "HAUIRm6pWOD6",
        "outputId": "de7aa709-ffb7-48e4-925d-63cc809b8d52"
      },
      "outputs": [
        {
          "data": {
            "text/plain": [
              "<Axes: xlabel='age_bracket', ylabel='count'>"
            ]
          },
          "execution_count": 11,
          "metadata": {},
          "output_type": "execute_result"
        },
        {
          "data": {
            "image/png": "[encoded data removed]",
            "text/plain": [
              "<Figure size 640x480 with 1 Axes>"
            ]
          },
          "metadata": {},
          "output_type": "display_data"
        }
      ],
      "source": [
        "import seaborn as sns\n",
        "sns.countplot(data=df, x='age_bracket')"
      ]
    },
    {
      "cell_type": "code",
      "execution_count": null,
      "metadata": {
        "colab": {
          "base_uri": "https://localhost:8080/"
        },
        "id": "CKPyQrPaDWMM",
        "outputId": "b82e9b0a-1133-458f-9236-986e6098d264"
      },
      "outputs": [
        {
          "data": {
            "text/plain": [
              "(12654, 27)"
            ]
          },
          "execution_count": 97,
          "metadata": {},
          "output_type": "execute_result"
        }
      ],
      "source": [
        "df.shape"
      ]
    },
    {
      "cell_type": "code",
      "execution_count": null,
      "metadata": {
        "colab": {
          "base_uri": "https://localhost:8080/"
        },
        "id": "win0k9Nr_w9p",
        "outputId": "14bbac12-ea6f-4a89-85b9-9029a1306204"
      },
      "outputs": [
        {
          "data": {
            "text/plain": [
              "array(['61-90', '8-14', '90+', ..., '61-90', '61-90', '90+'], dtype=object)"
            ]
          },
          "execution_count": 98,
          "metadata": {},
          "output_type": "execute_result"
        }
      ],
      "source": [
        "np.array(df['days_before_booked'])"
      ]
    },
    {
      "cell_type": "markdown",
      "metadata": {
        "id": "5795caaa"
      },
      "source": [
        "# Exploratory Data Analysis (EDA)\n",
        "Initial exploration of the dataset to identify patterns and insights."
      ]
    },
    {
      "cell_type": "code",
      "execution_count": null,
      "metadata": {
        "id": "NwHyxIwQBD2d"
      },
      "outputs": [],
      "source": [
        "df = df.drop(columns=['trip_ID'], inplace=False)"
      ]
    },
    {
      "cell_type": "code",
      "execution_count": null,
      "metadata": {
        "id": "Xb7t3w_nCzXu"
      },
      "outputs": [],
      "source": [
        "df = df.dropna(subset=['travelling_with'], inplace=False)"
      ]
    },
    {
      "cell_type": "code",
      "execution_count": null,
      "metadata": {
        "id": "3eyKHFAqDERO"
      },
      "outputs": [],
      "source": [
        "df = df.dropna(subset=['category'])"
      ]
    },
    {
      "cell_type": "code",
      "execution_count": null,
      "metadata": {
        "id": "HLc31DmOJbg2"
      },
      "outputs": [],
      "source": [
        "df = df.dropna(subset=['tour_length'])\n",
        "df = df.dropna(subset=['insurance_package'])\n",
        "df = df.dropna(subset=['food_package'])"
      ]
    },
    {
      "cell_type": "code",
      "execution_count": null,
      "metadata": {
        "id": "5MRIGKkFJoM5"
      },
      "outputs": [],
      "source": [
        "df = df.dropna(subset=['female_count'])\n",
        "df = df.dropna(subset=['male_count'])\n",
        "df = df.dropna(subset=['transport_package_international'])\n",
        "df = df.dropna(subset=['package_accomodation'])"
      ]
    },
    {
      "cell_type": "code",
      "execution_count": null,
      "metadata": {
        "id": "wrr3TO55J88T"
      },
      "outputs": [],
      "source": [
        "df = df.dropna(subset=['weather_at_arrival'])"
      ]
    },
    {
      "cell_type": "code",
      "execution_count": null,
      "metadata": {
        "id": "QFZbshkPKodw"
      },
      "outputs": [],
      "source": [
        "df = df.drop(columns=['female_count'], inplace=False)\n",
        "df = df.drop(columns=['male_count'], inplace=False)"
      ]
    },
    {
      "cell_type": "code",
      "execution_count": null,
      "metadata": {
        "colab": {
          "base_uri": "https://localhost:8080/",
          "height": 564
        },
        "id": "491hjaFA4xLL",
        "outputId": "a45c06c9-4180-48a0-fa19-4c4ba317e99e"
      },
      "outputs": [
        {
          "data": {
            "image/png": "[encoded data removed]",
            "text/plain": [
              "<Figure size 1000x600 with 1 Axes>"
            ]
          },
          "metadata": {},
          "output_type": "display_data"
        }
      ],
      "source": [
        "plt.figure(figsize=(10, 6))\n",
        "df.boxplot()\n",
        "plt.title('Box Plot of DataFrame')\n",
        "plt.xlabel('Categories')\n",
        "plt.ylabel('Values')\n",
        "plt.show()"
      ]
    },
    {
      "cell_type": "markdown",
      "metadata": {
        "id": "b99a28bb"
      },
      "source": [
        "# Model Training\n",
        "Implementation of machine learning models to predict outcomes."
      ]
    },
    {
      "cell_type": "code",
      "execution_count": null,
      "metadata": {
        "colab": {
          "base_uri": "https://localhost:8080/"
        },
        "id": "tiqfhpFG5B9Y",
        "outputId": "0e9b9e49-722c-4a40-9757-ab2d76844d86"
      },
      "outputs": [
        {
          "name": "stdout",
          "output_type": "stream",
          "text": [
            "       mainland_nights  island_nights      category  total_group_size  \\\n",
            "count     11539.000000   11539.000000  11539.000000      11539.000000   \n",
            "mean          9.236849       2.509230      0.623104          1.946096   \n",
            "std          14.825675       5.148646      0.685251          2.026871   \n",
            "min           0.000000       0.000000      0.000000          0.000000   \n",
            "25%           3.000000       0.000000      0.000000          1.000000   \n",
            "50%           6.000000       0.000000      1.000000          2.000000   \n",
            "75%          11.000000       4.000000      1.000000          2.000000   \n",
            "max         365.000000     240.000000      2.000000         93.000000   \n",
            "\n",
            "       total_nights  \n",
            "count  11539.000000  \n",
            "mean      11.746079  \n",
            "std       15.202533  \n",
            "min        1.000000  \n",
            "25%        5.000000  \n",
            "50%        8.000000  \n",
            "75%       14.000000  \n",
            "max      371.000000  \n"
          ]
        }
      ],
      "source": [
        "# df.info()\n",
        "print(df.describe())\n",
        "# print(df.describe(include='object'))"
      ]
    },
    {
      "cell_type": "code",
      "execution_count": null,
      "metadata": {
        "id": "le4nZV_cmjGg"
      },
      "outputs": [],
      "source": [
        "# from sklearn.preprocessing import MinMaxScaler\n",
        "\n",
        "# # Initialize the scaler\n",
        "# scaler = MinMaxScaler()\n",
        "\n",
        "# # Normalize the data (excluding the target column)\n",
        "# X = df.drop(columns=['category'])\n",
        "# X_scaled = scaler.fit_transform(X)\n",
        "\n",
        "# # Convert back to a DataFrame\n",
        "# X_normalized = pd.DataFrame(X_scaled, columns=X.columns)\n",
        "\n",
        "# # Combine the normalized features with the target column\n",
        "# df_normalized = pd.concat([X_normalized, df['category']], axis=1)\n"
      ]
    },
    {
      "cell_type": "code",
      "execution_count": null,
      "metadata": {
        "colab": {
          "base_uri": "https://localhost:8080/"
        },
        "id": "5yTgTKyPPaiP",
        "outputId": "6568051b-0aa5-4948-f7d7-cb22c5b6930c"
      },
      "outputs": [
        {
          "data": {
            "text/plain": [
              "(11539, 24)"
            ]
          },
          "execution_count": 109,
          "metadata": {},
          "output_type": "execute_result"
        }
      ],
      "source": [
        "df.shape"
      ]
    },
    {
      "cell_type": "markdown",
      "metadata": {
        "id": "_s8dMKmC_eiR"
      },
      "source": []
    },
    {
      "cell_type": "code",
      "execution_count": null,
      "metadata": {
        "id": "m3PYRoVOnbil"
      },
      "outputs": [],
      "source": [
        "# Step 1: Encode categorical columns using LabelEncoder\n",
        "label_encoders = {}\n",
        "for column in df.select_dtypes(include=['object']).columns:\n",
        "    le = LabelEncoder()\n",
        "    df[column] = le.fit_transform(df[column].astype(str))\n",
        "    label_encoders[column] = le"
      ]
    },
    {
      "cell_type": "code",
      "execution_count": null,
      "metadata": {
        "colab": {
          "base_uri": "https://localhost:8080/",
          "height": 472
        },
        "id": "O0zYgHNStBRF",
        "outputId": "73a80ffa-6e3c-4222-99a2-1440bde044d0"
      },
      "outputs": [
        {
          "data": {
            "image/png": "[encoded data removed]",
            "text/plain": [
              "<Figure size 640x480 with 1 Axes>"
            ]
          },
          "metadata": {},
          "output_type": "display_data"
        }
      ],
      "source": [
        "import seaborn as sns\n",
        "import matplotlib.pyplot as plt\n",
        "\n",
        "# Plot the distribution of the target variable (assuming 'category' is the target column)\n",
        "sns.countplot(x='category', data=df)\n",
        "plt.title(\"Target Variable Distribution\")\n",
        "plt.show()\n"
      ]
    },
    {
      "cell_type": "code",
      "execution_count": null,
      "metadata": {
        "colab": {
          "base_uri": "https://localhost:8080/",
          "height": 911
        },
        "id": "HFaUBg7Tr4Zb",
        "outputId": "06328790-a8d2-42fe-e374-c4797b0c32e4"
      },
      "outputs": [
        {
          "data": {
            "image/png": "[encoded data removed]",
            "text/plain": [
              "<Figure size 1000x800 with 2 Axes>"
            ]
          },
          "metadata": {},
          "output_type": "display_data"
        }
      ],
      "source": [
        "import seaborn as sns\n",
        "\n",
        "\n",
        "# Compute the correlation matrix\n",
        "correlation_matrix = df.corr()\n",
        "\n",
        "# Display the correlation matrix as a heatmap\n",
        "plt.figure(figsize=(10, 8))\n",
        "sns.heatmap(correlation_matrix, annot=False, cmap='coolwarm')\n",
        "plt.title(\"Correlation Matrix\")\n",
        "plt.show()\n"
      ]
    },
    {
      "cell_type": "code",
      "execution_count": null,
      "metadata": {
        "id": "oTXMjustPWSH"
      },
      "outputs": [],
      "source": [
        "import numpy as np\n",
        "\n",
        "# Define a function to remove outliers based on the IQR method\n",
        "def remove_outliers_iqr(df, columns):\n",
        "    for column in columns:\n",
        "        if np.issubdtype(df[column].dtype, np.number):  # Check if the column is numerical\n",
        "            Q1 = df[column].quantile(0.20)\n",
        "            Q3 = df[column].quantile(0.95)\n",
        "            IQR = Q3 - Q1\n",
        "            lower_bound = Q1 - 1.5 * IQR\n",
        "            upper_bound = Q3 + 1.5 * IQR\n",
        "            df = df[(df[column] >= lower_bound) & (df[column] <= upper_bound)]\n",
        "    return df\n",
        "\n",
        "# Apply the function to remove outliers from all numerical columns in the DataFrame\n",
        "df = remove_outliers_iqr(df, df.columns)\n"
      ]
    },
    {
      "cell_type": "code",
      "execution_count": null,
      "metadata": {
        "id": "YNyWX8GmoYn5"
      },
      "outputs": [],
      "source": [
        "from sklearn.model_selection import train_test_split\n",
        "\n",
        "\n",
        "# Step 2: Prepare the feature matrix (X) and target vector (y)\n",
        "X = df.drop(columns=['category'])  # Assuming 'category' is the target column\n",
        "y = df['category']\n",
        "\n",
        "# Step 3: Split the data into training and testing sets\n",
        "X_train, X_test, y_train, y_test = train_test_split(X, y, test_size=0.2, random_state=42)"
      ]
    },
    {
      "cell_type": "code",
      "execution_count": null,
      "metadata": {
        "colab": {
          "base_uri": "https://localhost:8080/"
        },
        "id": "z5NpAqoN8SYH",
        "outputId": "ad53cd8c-05eb-4ee3-f743-5b0f9d7ca975"
      },
      "outputs": [
        {
          "name": "stderr",
          "output_type": "stream",
          "text": [
            "/usr/local/lib/python3.10/dist-packages/xgboost/core.py:158: UserWarning: [14:47:18] WARNING: /workspace/src/learner.cc:740: \n",
            "Parameters: { \"use_label_encoder\" } are not used.\n",
            "\n",
            "  warnings.warn(smsg, UserWarning)\n"
          ]
        },
        {
          "name": "stdout",
          "output_type": "stream",
          "text": [
            "Model Accuracy: 0.76\n"
          ]
        }
      ],
      "source": [
        "import pandas as pd\n",
        "from sklearn.model_selection import train_test_split\n",
        "from sklearn.preprocessing import LabelEncoder\n",
        "import xgboost as xgb\n",
        "from sklearn.metrics import accuracy_score\n",
        "\n",
        "\n",
        "# Step 4: Train the XGBoost model\n",
        "xgb_model = xgb.XGBClassifier(use_label_encoder=False, eval_metric='mlogloss')\n",
        "xgb_model.fit(X_train, y_train)\n",
        "\n",
        "# Step 5: Make predictions and evaluate the model\n",
        "y_pred = xgb_model.predict(X_test)\n",
        "accuracy = accuracy_score(y_test, y_pred)\n",
        "\n",
        "print(f\"Model Accuracy: {accuracy:.2f}\")\n"
      ]
    },
    {
      "cell_type": "code",
      "execution_count": null,
      "metadata": {
        "colab": {
          "base_uri": "https://localhost:8080/"
        },
        "id": "FfXJGSqtWjEo",
        "outputId": "7b8ac428-7dc4-49c2-fb38-e3d39c2229c6"
      },
      "outputs": [
        {
          "name": "stdout",
          "output_type": "stream",
          "text": [
            "Fitting 3 folds for each of 12 candidates, totalling 36 fits\n"
          ]
        },
        {
          "name": "stderr",
          "output_type": "stream",
          "text": [
            "/usr/local/lib/python3.10/dist-packages/xgboost/core.py:158: UserWarning: [16:29:24] WARNING: /workspace/src/learner.cc:740: \n",
            "Parameters: { \"use_label_encoder\" } are not used.\n",
            "\n",
            "  warnings.warn(smsg, UserWarning)\n"
          ]
        },
        {
          "name": "stdout",
          "output_type": "stream",
          "text": [
            "Best Parameters: {'learning_rate': 0.1, 'max_depth': 3, 'n_estimators': 150, 'subsample': 0.8}\n",
            "Best Cross-Validation Accuracy: 0.7659505417965914\n",
            "Test Set Accuracy: 0.77\n"
          ]
        }
      ],
      "source": [
        "import pandas as pd\n",
        "from sklearn.model_selection import train_test_split, GridSearchCV\n",
        "from sklearn.preprocessing import LabelEncoder\n",
        "import xgboost as xgb\n",
        "from sklearn.metrics import accuracy_score\n",
        "\n",
        "# Step 4: Set up the XGBoost model\n",
        "xgb_model = xgb.XGBClassifier(use_label_encoder=False, eval_metric='mlogloss')\n",
        "\n",
        "# Step 5: Define the hyperparameters grid\n",
        "param_grid = {\n",
        "    'n_estimators': [150],\n",
        "    'max_depth': [3, 5, 7],\n",
        "    'learning_rate': [0.01, 0.1],\n",
        "    'subsample': [0.8, 1.0],\n",
        "    # 'colsample_bytree': [0.6, 0.8, 1.0]\n",
        "}\n",
        "\n",
        "# Step 6: Set up GridSearchCV\n",
        "grid_search = GridSearchCV(\n",
        "    estimator=xgb_model,\n",
        "    param_grid=param_grid,\n",
        "    scoring='accuracy',\n",
        "    cv=3,  # 3-fold cross-validation\n",
        "    verbose=2,\n",
        "    n_jobs=-1  # Use all available cores\n",
        ")\n",
        "\n",
        "# Step 7: Fit GridSearchCV\n",
        "grid_search.fit(X_train, y_train)\n",
        "\n",
        "# Step 8: Print the best parameters and best score\n",
        "print(\"Best Parameters:\", grid_search.best_params_)\n",
        "print(\"Best Cross-Validation Accuracy:\", grid_search.best_score_)\n",
        "\n",
        "# Step 9: Evaluate on the test set\n",
        "best_model = grid_search.best_estimator_\n",
        "y_pred = best_model.predict(X_test)\n",
        "test_accuracy = accuracy_score(y_test, y_pred)\n",
        "print(f\"Test Set Accuracy: {test_accuracy:.2f}\")\n"
      ]
    },
    {
      "cell_type": "code",
      "execution_count": null,
      "metadata": {
        "colab": {
          "base_uri": "https://localhost:8080/"
        },
        "id": "ZFuosSr6ST1-",
        "outputId": "69328994-8678-4670-be9e-1e4bfceb3a69"
      },
      "outputs": [
        {
          "name": "stdout",
          "output_type": "stream",
          "text": [
            "Model Accuracy: 0.75\n"
          ]
        }
      ],
      "source": [
        "import pandas as pd\n",
        "from sklearn.model_selection import train_test_split\n",
        "from sklearn.ensemble import RandomForestClassifier\n",
        "from sklearn.preprocessing import LabelEncoder\n",
        "from sklearn.metrics import accuracy_score\n",
        "\n",
        "\n",
        "# Step 4: Train the Random Forest model\n",
        "rf_model = RandomForestClassifier(n_estimators=100, random_state=42)\n",
        "rf_model.fit(X_train, y_train)\n",
        "\n",
        "# Step 5: Make predictions and evaluate the model\n",
        "y_pred = rf_model.predict(X_test)\n",
        "accuracy = accuracy_score(y_test, y_pred)\n",
        "\n",
        "print(f\"Model Accuracy: {accuracy:.2f}\")"
      ]
    },
    {
      "cell_type": "code",
      "execution_count": null,
      "metadata": {
        "colab": {
          "base_uri": "https://localhost:8080/"
        },
        "id": "KUJNcSyyklvy",
        "outputId": "d69104c3-ec2e-4920-f393-9b833497f632"
      },
      "outputs": [
        {
          "name": "stdout",
          "output_type": "stream",
          "text": [
            "Fitting 3 folds for each of 27 candidates, totalling 81 fits\n",
            "Best Parameters: {'max_depth': None, 'min_samples_leaf': 1, 'min_samples_split': 10, 'n_estimators': 100}\n",
            "Best Cross-Validation Accuracy: 0.7582527509169723\n",
            "Test Set Accuracy: 0.75\n"
          ]
        }
      ],
      "source": [
        "import pandas as pd\n",
        "from sklearn.model_selection import train_test_split, GridSearchCV\n",
        "from sklearn.ensemble import RandomForestClassifier\n",
        "from sklearn.preprocessing import LabelEncoder\n",
        "from sklearn.metrics import accuracy_score\n",
        "\n",
        "\n",
        "# Step 4: Set up the Random Forest model\n",
        "rf_model = RandomForestClassifier(random_state=42)\n",
        "\n",
        "# Step 5: Define the hyperparameters grid\n",
        "param_grid = {\n",
        "    'n_estimators': [100],\n",
        "    'max_depth': [None, 10, 20],\n",
        "    'min_samples_split': [2, 5, 10],\n",
        "    'min_samples_leaf': [1, 2, 4],\n",
        "    # 'bootstrap': [True, False]\n",
        "}\n",
        "\n",
        "# Step 6: Set up GridSearchCV\n",
        "grid_search = GridSearchCV(\n",
        "    estimator=rf_model,\n",
        "    param_grid=param_grid,\n",
        "    scoring='accuracy',\n",
        "    cv=3,  # 3-fold cross-validation\n",
        "    verbose=2,\n",
        "    n_jobs=-1  # Use all available cores\n",
        ")\n",
        "\n",
        "# Step 7: Fit GridSearchCV\n",
        "grid_search.fit(X_train, y_train)\n",
        "\n",
        "# Step 8: Print the best parameters and best score\n",
        "print(\"Best Parameters:\", grid_search.best_params_)\n",
        "print(\"Best Cross-Validation Accuracy:\", grid_search.best_score_)\n",
        "\n",
        "# Step 9: Evaluate on the test set\n",
        "best_model = grid_search.best_estimator_\n",
        "y_pred = best_model.predict(X_test)\n",
        "test_accuracy = accuracy_score(y_test, y_pred)\n",
        "print(f\"Test Set Accuracy: {test_accuracy:.2f}\")\n"
      ]
    },
    {
      "cell_type": "code",
      "execution_count": null,
      "metadata": {
        "colab": {
          "base_uri": "https://localhost:8080/"
        },
        "id": "d5awCkrmosSK",
        "outputId": "fcba7233-60c5-4002-964d-c3b4550a7873"
      },
      "outputs": [
        {
          "name": "stderr",
          "output_type": "stream",
          "text": [
            "/usr/local/lib/python3.10/dist-packages/sklearn/ensemble/_weight_boosting.py:527: FutureWarning: The SAMME.R algorithm (the default) is deprecated and will be removed in 1.6. Use the SAMME algorithm to circumvent this warning.\n",
            "  warnings.warn(\n"
          ]
        },
        {
          "name": "stdout",
          "output_type": "stream",
          "text": [
            "AdaBoost Model Accuracy: 0.75\n"
          ]
        }
      ],
      "source": [
        "from sklearn.ensemble import AdaBoostClassifier\n",
        "\n",
        "# Step 4: Train the AdaBoost model\n",
        "ada_model = AdaBoostClassifier(n_estimators=100, random_state=42)\n",
        "ada_model.fit(X_train, y_train)\n",
        "\n",
        "# Step 5: Make predictions and evaluate the AdaBoost model\n",
        "y_pred_ada = ada_model.predict(X_test)\n",
        "accuracy_ada = accuracy_score(y_test, y_pred_ada)\n",
        "\n",
        "print(f\"AdaBoost Model Accuracy: {accuracy_ada:.2f}\")\n"
      ]
    },
    {
      "cell_type": "code",
      "execution_count": null,
      "metadata": {
        "colab": {
          "base_uri": "https://localhost:8080/"
        },
        "id": "p2sr1v-uotvH",
        "outputId": "e45c1ca1-a227-4eac-f16a-7aba4f517f9e"
      },
      "outputs": [
        {
          "name": "stdout",
          "output_type": "stream",
          "text": [
            "Gradient Boosting Model Accuracy: 0.76\n"
          ]
        }
      ],
      "source": [
        "from sklearn.ensemble import GradientBoostingClassifier\n",
        "\n",
        "# Step 4: Train the Gradient Boosting model\n",
        "gb_model = GradientBoostingClassifier(n_estimators=100, random_state=42)\n",
        "gb_model.fit(X_train, y_train)\n",
        "\n",
        "# Step 5: Make predictions and evaluate the Gradient Boosting model\n",
        "y_pred_gb = gb_model.predict(X_test)\n",
        "accuracy_gb = accuracy_score(y_test, y_pred_gb)\n",
        "\n",
        "print(f\"Gradient Boosting Model Accuracy: {accuracy_gb:.2f}\")\n"
      ]
    },
    {
      "cell_type": "code",
      "execution_count": null,
      "metadata": {
        "colab": {
          "base_uri": "https://localhost:8080/"
        },
        "id": "48KwZ0NR_o2q",
        "outputId": "b8324867-c080-4f6b-f9f2-862cf31ebbc5"
      },
      "outputs": [
        {
          "name": "stderr",
          "output_type": "stream",
          "text": [
            "/usr/local/lib/python3.10/dist-packages/xgboost/core.py:158: UserWarning: [15:00:12] WARNING: /workspace/src/learner.cc:740: \n",
            "Parameters: { \"use_label_encoder\" } are not used.\n",
            "\n",
            "  warnings.warn(smsg, UserWarning)\n"
          ]
        },
        {
          "name": "stdout",
          "output_type": "stream",
          "text": [
            "Ensemble Model Accuracy: 0.7631\n"
          ]
        }
      ],
      "source": [
        "import pandas as pd\n",
        "from sklearn.model_selection import train_test_split\n",
        "from sklearn.ensemble import GradientBoostingRegressor, GradientBoostingClassifier, VotingRegressor, VotingClassifier\n",
        "from sklearn.metrics import mean_squared_error, accuracy_score\n",
        "from sklearn.preprocessing import LabelEncoder\n",
        "from xgboost import XGBRegressor, XGBClassifier\n",
        "\n",
        "def apply_ensemble_model(df, target_column, is_classification=True, test_size=0.2, random_state=42):\n",
        "    \"\"\"\n",
        "    Applies an ensemble model using Gradient Boosting and XGBoost on a DataFrame.\n",
        "\n",
        "    Parameters:\n",
        "    df (pd.DataFrame): The DataFrame containing the data.\n",
        "    target_column (str): The name of the target column.\n",
        "    is_classification (bool): Whether the problem is classification or regression (default is classification).\n",
        "    test_size (float): The proportion of the dataset to include in the test split (default is 0.2).\n",
        "    random_state (int): The seed used by the random number generator.\n",
        "\n",
        "    Returns:\n",
        "    ensemble_model: The trained ensemble model.\n",
        "    \"\"\"\n",
        "    # Separate features and target\n",
        "    X = df.drop(columns=[target_column])\n",
        "    y = df[target_column]\n",
        "\n",
        "    # Label encode categorical features\n",
        "    X = X.apply(lambda col: LabelEncoder().fit_transform(col) if col.dtype == 'object' else col)\n",
        "\n",
        "    # Split data into train and test sets\n",
        "    X_train, X_test, y_train, y_test = train_test_split(X, y, test_size=test_size, random_state=random_state)\n",
        "\n",
        "    # Define individual models\n",
        "    if is_classification:\n",
        "        model1 = GradientBoostingClassifier(random_state=random_state)\n",
        "        model2 = XGBClassifier(random_state=random_state, use_label_encoder=False, eval_metric='mlogloss')\n",
        "        ensemble_model = VotingClassifier(estimators=[('gb', model1), ('xgb', model2)], voting='soft')\n",
        "    else:\n",
        "        model1 = GradientBoostingRegressor(random_state=random_state)\n",
        "        model2 = XGBRegressor(random_state=random_state)\n",
        "        ensemble_model = VotingRegressor(estimators=[('gb', model1), ('xgb', model2)])\n",
        "\n",
        "    # Fit the ensemble model\n",
        "    ensemble_model.fit(X_train, y_train)\n",
        "\n",
        "    # Make predictions and evaluate\n",
        "    y_pred = ensemble_model.predict(X_test)\n",
        "    if is_classification:\n",
        "        accuracy = accuracy_score(y_test, y_pred)\n",
        "        print(f\"Ensemble Model Accuracy: {accuracy:.4f}\")\n",
        "    else:\n",
        "        mse = mean_squared_error(y_test, y_pred)\n",
        "        print(f\"Ensemble Model Mean Squared Error: {mse:.4f}\")\n",
        "\n",
        "    return ensemble_model\n",
        "\n",
        "# Example usage\n",
        "# Assuming 'df' is your DataFrame and 'category' is the target column\n",
        "ensemble_model = apply_ensemble_model(df, target_column='category', is_classification=True)\n"
      ]
    },
    {
      "cell_type": "code",
      "execution_count": null,
      "metadata": {
        "colab": {
          "base_uri": "https://localhost:8080/",
          "height": 342
        },
        "id": "NN900YZdLVat",
        "outputId": "28ba81c6-15f2-4f7d-e4d1-3b031e6842c1"
      },
      "outputs": [
        {
          "data": {
            "application/vnd.google.colaboratory.intrinsic+json": {
              "type": "dataframe",
              "variable_name": "df_test"
            },
            "text/html": [
              "\n",
              "  <div id=\"df-93beeec4-9395-4f37-aa55-e352eb22d22c\" class=\"colab-df-container\">\n",
              "    <div>\n",
              "<style scoped>\n",
              "    .dataframe tbody tr th:only-of-type {\n",
              "        vertical-align: middle;\n",
              "    }\n",
              "\n",
              "    .dataframe tbody tr th {\n",
              "        vertical-align: top;\n",
              "    }\n",
              "\n",
              "    .dataframe thead th {\n",
              "        text-align: right;\n",
              "    }\n",
              "</style>\n",
              "<table border=\"1\" class=\"dataframe\">\n",
              "  <thead>\n",
              "    <tr style=\"text-align: right;\">\n",
              "      <th></th>\n",
              "      <th>trip_ID</th>\n",
              "      <th>visitor_nation</th>\n",
              "      <th>age_bracket</th>\n",
              "      <th>travelling_with</th>\n",
              "      <th>female_count</th>\n",
              "      <th>male_count</th>\n",
              "      <th>key_activity</th>\n",
              "      <th>trip_purpose</th>\n",
              "      <th>first_time_visitor</th>\n",
              "      <th>mainland_nights</th>\n",
              "      <th>...</th>\n",
              "      <th>package_accomodation</th>\n",
              "      <th>food_package</th>\n",
              "      <th>transport_package_mx</th>\n",
              "      <th>sightseeing_package</th>\n",
              "      <th>guided_tour_package</th>\n",
              "      <th>insurance_package</th>\n",
              "      <th>days_before_booked</th>\n",
              "      <th>weather_at_arrival</th>\n",
              "      <th>tour_length</th>\n",
              "      <th>special_requirements</th>\n",
              "    </tr>\n",
              "  </thead>\n",
              "  <tbody>\n",
              "    <tr>\n",
              "      <th>0</th>\n",
              "      <td>tour_id8gzpck76</td>\n",
              "      <td>CONGO</td>\n",
              "      <td>25-44</td>\n",
              "      <td>Alone</td>\n",
              "      <td>0.0</td>\n",
              "      <td>1.0</td>\n",
              "      <td>Widlife Tourism</td>\n",
              "      <td>Business</td>\n",
              "      <td>No</td>\n",
              "      <td>14</td>\n",
              "      <td>...</td>\n",
              "      <td>No</td>\n",
              "      <td>No</td>\n",
              "      <td>No</td>\n",
              "      <td>No</td>\n",
              "      <td>No</td>\n",
              "      <td>No</td>\n",
              "      <td>15-30</td>\n",
              "      <td>sunny,</td>\n",
              "      <td>15-30</td>\n",
              "      <td>wheelchair,</td>\n",
              "    </tr>\n",
              "    <tr>\n",
              "      <th>1</th>\n",
              "      <td>tour_idow1zxkou</td>\n",
              "      <td>SWIZERLAND</td>\n",
              "      <td>45-64</td>\n",
              "      <td>With Spouse</td>\n",
              "      <td>1.0</td>\n",
              "      <td>1.0</td>\n",
              "      <td>Widlife Tourism</td>\n",
              "      <td>Leisure and Holidays</td>\n",
              "      <td>Yes</td>\n",
              "      <td>8</td>\n",
              "      <td>...</td>\n",
              "      <td>Yes</td>\n",
              "      <td>Yes</td>\n",
              "      <td>No</td>\n",
              "      <td>No</td>\n",
              "      <td>Yes</td>\n",
              "      <td>No</td>\n",
              "      <td>61-90</td>\n",
              "      <td>Stormy</td>\n",
              "      <td>1-6</td>\n",
              "      <td>NaN</td>\n",
              "    </tr>\n",
              "    <tr>\n",
              "      <th>2</th>\n",
              "      <td>tour_idue7esfqz</td>\n",
              "      <td>MEXICO</td>\n",
              "      <td>45-64</td>\n",
              "      <td>With Other Friends/Relatives</td>\n",
              "      <td>2.0</td>\n",
              "      <td>0.0</td>\n",
              "      <td>Cultural Tourism</td>\n",
              "      <td>Leisure and Holidays</td>\n",
              "      <td>Yes</td>\n",
              "      <td>3</td>\n",
              "      <td>...</td>\n",
              "      <td>Yes</td>\n",
              "      <td>Yes</td>\n",
              "      <td>Yes</td>\n",
              "      <td>Yes</td>\n",
              "      <td>Yes</td>\n",
              "      <td>No</td>\n",
              "      <td>1-7</td>\n",
              "      <td>Stormy</td>\n",
              "      <td>30+</td>\n",
              "      <td>none</td>\n",
              "    </tr>\n",
              "    <tr>\n",
              "      <th>3</th>\n",
              "      <td>tour_idnj3mjzpb</td>\n",
              "      <td>JAPAN</td>\n",
              "      <td>25-44</td>\n",
              "      <td>With Other Friends/Relatives</td>\n",
              "      <td>1.0</td>\n",
              "      <td>1.0</td>\n",
              "      <td>Widlife Tourism</td>\n",
              "      <td>Leisure and Holidays</td>\n",
              "      <td>Yes</td>\n",
              "      <td>5</td>\n",
              "      <td>...</td>\n",
              "      <td>Yes</td>\n",
              "      <td>Yes</td>\n",
              "      <td>Yes</td>\n",
              "      <td>Yes</td>\n",
              "      <td>Yes</td>\n",
              "      <td>No</td>\n",
              "      <td>90+</td>\n",
              "      <td>sunny,</td>\n",
              "      <td>7-14</td>\n",
              "      <td>NaN</td>\n",
              "    </tr>\n",
              "    <tr>\n",
              "      <th>4</th>\n",
              "      <td>tour_ida3us5yk2</td>\n",
              "      <td>SPAIN</td>\n",
              "      <td>25-44</td>\n",
              "      <td>With Other Friends/Relatives</td>\n",
              "      <td>2.0</td>\n",
              "      <td>0.0</td>\n",
              "      <td>Wildlife Tourism</td>\n",
              "      <td>Leisure and Holidays</td>\n",
              "      <td>Yes</td>\n",
              "      <td>0</td>\n",
              "      <td>...</td>\n",
              "      <td>Yes</td>\n",
              "      <td>Yes</td>\n",
              "      <td>No</td>\n",
              "      <td>Yes</td>\n",
              "      <td>No</td>\n",
              "      <td>Yes</td>\n",
              "      <td>61-90</td>\n",
              "      <td>Stormy</td>\n",
              "      <td>30+</td>\n",
              "      <td>dietary needs,</td>\n",
              "    </tr>\n",
              "  </tbody>\n",
              "</table>\n",
              "<p>5 rows × 24 columns</p>\n",
              "</div>\n",
              "    <div class=\"colab-df-buttons\">\n",
              "\n",
              "  <div class=\"colab-df-container\">\n",
              "    <button class=\"colab-df-convert\" onclick=\"convertToInteractive('df-93beeec4-9395-4f37-aa55-e352eb22d22c')\"\n",
              "            title=\"Convert this dataframe to an interactive table.\"\n",
              "            style=\"display:none;\">\n",
              "\n",
              "  <svg xmlns=\"http://www.w3.org/2000/svg\" height=\"24px\" viewBox=\"0 -960 960 960\">\n",
              "    <path d=\"M120-120v-720h720v720H120Zm60-500h600v-160H180v160Zm220 220h160v-160H400v160Zm0 220h160v-160H400v160ZM180-400h160v-160H180v160Zm440 0h160v-160H620v160ZM180-180h160v-160H180v160Zm440 0h160v-160H620v160Z\"/>\n",
              "  </svg>\n",
              "    </button>\n",
              "\n",
              "  <style>\n",
              "    .colab-df-container {\n",
              "      display:flex;\n",
              "      gap: 12px;\n",
              "    }\n",
              "\n",
              "    .colab-df-convert {\n",
              "      background-color: #E8F0FE;\n",
              "      border: none;\n",
              "      border-radius: 50%;\n",
              "      cursor: pointer;\n",
              "      display: none;\n",
              "      fill: #1967D2;\n",
              "      height: 32px;\n",
              "      padding: 0 0 0 0;\n",
              "      width: 32px;\n",
              "    }\n",
              "\n",
              "    .colab-df-convert:hover {\n",
              "      background-color: #E2EBFA;\n",
              "      box-shadow: 0px 1px 2px rgba(60, 64, 67, 0.3), 0px 1px 3px 1px rgba(60, 64, 67, 0.15);\n",
              "      fill: #174EA6;\n",
              "    }\n",
              "\n",
              "    .colab-df-buttons div {\n",
              "      margin-bottom: 4px;\n",
              "    }\n",
              "\n",
              "    [theme=dark] .colab-df-convert {\n",
              "      background-color: #3B4455;\n",
              "      fill: #D2E3FC;\n",
              "    }\n",
              "\n",
              "    [theme=dark] .colab-df-convert:hover {\n",
              "      background-color: #434B5C;\n",
              "      box-shadow: 0px 1px 3px 1px rgba(0, 0, 0, 0.15);\n",
              "      filter: drop-shadow(0px 1px 2px rgba(0, 0, 0, 0.3));\n",
              "      fill: #FFFFFF;\n",
              "    }\n",
              "  </style>\n",
              "\n",
              "    <script>\n",
              "      const buttonEl =\n",
              "        document.querySelector('#df-93beeec4-9395-4f37-aa55-e352eb22d22c button.colab-df-convert');\n",
              "      buttonEl.style.display =\n",
              "        google.colab.kernel.accessAllowed ? 'block' : 'none';\n",
              "\n",
              "      async function convertToInteractive(key) {\n",
              "        const element = document.querySelector('#df-93beeec4-9395-4f37-aa55-e352eb22d22c');\n",
              "        const dataTable =\n",
              "          await google.colab.kernel.invokeFunction('convertToInteractive',\n",
              "                                                    [key], {});\n",
              "        if (!dataTable) return;\n",
              "\n",
              "        const docLinkHtml = 'Like what you see? Visit the ' +\n",
              "          '<a target=\"_blank\" href=https://colab.research.google.com/notebooks/data_table.ipynb>data table notebook</a>'\n",
              "          + ' to learn more about interactive tables.';\n",
              "        element.innerHTML = '';\n",
              "        dataTable['output_type'] = 'display_data';\n",
              "        await google.colab.output.renderOutput(dataTable, element);\n",
              "        const docLink = document.createElement('div');\n",
              "        docLink.innerHTML = docLinkHtml;\n",
              "        element.appendChild(docLink);\n",
              "      }\n",
              "    </script>\n",
              "  </div>\n",
              "\n",
              "\n",
              "<div id=\"df-f8f622a8-320d-4cf9-a9ff-11c7d5311b59\">\n",
              "  <button class=\"colab-df-quickchart\" onclick=\"quickchart('df-f8f622a8-320d-4cf9-a9ff-11c7d5311b59')\"\n",
              "            title=\"Suggest charts\"\n",
              "            style=\"display:none;\">\n",
              "\n",
              "<svg xmlns=\"http://www.w3.org/2000/svg\" height=\"24px\"viewBox=\"0 0 24 24\"\n",
              "     width=\"24px\">\n",
              "    <g>\n",
              "        <path d=\"M19 3H5c-1.1 0-2 .9-2 2v14c0 1.1.9 2 2 2h14c1.1 0 2-.9 2-2V5c0-1.1-.9-2-2-2zM9 17H7v-7h2v7zm4 0h-2V7h2v10zm4 0h-2v-4h2v4z\"/>\n",
              "    </g>\n",
              "</svg>\n",
              "  </button>\n",
              "\n",
              "<style>\n",
              "  .colab-df-quickchart {\n",
              "      --bg-color: #E8F0FE;\n",
              "      --fill-color: #1967D2;\n",
              "      --hover-bg-color: #E2EBFA;\n",
              "      --hover-fill-color: #174EA6;\n",
              "      --disabled-fill-color: #AAA;\n",
              "      --disabled-bg-color: #DDD;\n",
              "  }\n",
              "\n",
              "  [theme=dark] .colab-df-quickchart {\n",
              "      --bg-color: #3B4455;\n",
              "      --fill-color: #D2E3FC;\n",
              "      --hover-bg-color: #434B5C;\n",
              "      --hover-fill-color: #FFFFFF;\n",
              "      --disabled-bg-color: #3B4455;\n",
              "      --disabled-fill-color: #666;\n",
              "  }\n",
              "\n",
              "  .colab-df-quickchart {\n",
              "    background-color: var(--bg-color);\n",
              "    border: none;\n",
              "    border-radius: 50%;\n",
              "    cursor: pointer;\n",
              "    display: none;\n",
              "    fill: var(--fill-color);\n",
              "    height: 32px;\n",
              "    padding: 0;\n",
              "    width: 32px;\n",
              "  }\n",
              "\n",
              "  .colab-df-quickchart:hover {\n",
              "    background-color: var(--hover-bg-color);\n",
              "    box-shadow: 0 1px 2px rgba(60, 64, 67, 0.3), 0 1px 3px 1px rgba(60, 64, 67, 0.15);\n",
              "    fill: var(--button-hover-fill-color);\n",
              "  }\n",
              "\n",
              "  .colab-df-quickchart-complete:disabled,\n",
              "  .colab-df-quickchart-complete:disabled:hover {\n",
              "    background-color: var(--disabled-bg-color);\n",
              "    fill: var(--disabled-fill-color);\n",
              "    box-shadow: none;\n",
              "  }\n",
              "\n",
              "  .colab-df-spinner {\n",
              "    border: 2px solid var(--fill-color);\n",
              "    border-color: transparent;\n",
              "    border-bottom-color: var(--fill-color);\n",
              "    animation:\n",
              "      spin 1s steps(1) infinite;\n",
              "  }\n",
              "\n",
              "  @keyframes spin {\n",
              "    0% {\n",
              "      border-color: transparent;\n",
              "      border-bottom-color: var(--fill-color);\n",
              "      border-left-color: var(--fill-color);\n",
              "    }\n",
              "    20% {\n",
              "      border-color: transparent;\n",
              "      border-left-color: var(--fill-color);\n",
              "      border-top-color: var(--fill-color);\n",
              "    }\n",
              "    30% {\n",
              "      border-color: transparent;\n",
              "      border-left-color: var(--fill-color);\n",
              "      border-top-color: var(--fill-color);\n",
              "      border-right-color: var(--fill-color);\n",
              "    }\n",
              "    40% {\n",
              "      border-color: transparent;\n",
              "      border-right-color: var(--fill-color);\n",
              "      border-top-color: var(--fill-color);\n",
              "    }\n",
              "    60% {\n",
              "      border-color: transparent;\n",
              "      border-right-color: var(--fill-color);\n",
              "    }\n",
              "    80% {\n",
              "      border-color: transparent;\n",
              "      border-right-color: var(--fill-color);\n",
              "      border-bottom-color: var(--fill-color);\n",
              "    }\n",
              "    90% {\n",
              "      border-color: transparent;\n",
              "      border-bottom-color: var(--fill-color);\n",
              "    }\n",
              "  }\n",
              "</style>\n",
              "\n",
              "  <script>\n",
              "    async function quickchart(key) {\n",
              "      const quickchartButtonEl =\n",
              "        document.querySelector('#' + key + ' button');\n",
              "      quickchartButtonEl.disabled = true;  // To prevent multiple clicks.\n",
              "      quickchartButtonEl.classList.add('colab-df-spinner');\n",
              "      try {\n",
              "        const charts = await google.colab.kernel.invokeFunction(\n",
              "            'suggestCharts', [key], {});\n",
              "      } catch (error) {\n",
              "        console.error('Error during call to suggestCharts:', error);\n",
              "      }\n",
              "      quickchartButtonEl.classList.remove('colab-df-spinner');\n",
              "      quickchartButtonEl.classList.add('colab-df-quickchart-complete');\n",
              "    }\n",
              "    (() => {\n",
              "      let quickchartButtonEl =\n",
              "        document.querySelector('#df-f8f622a8-320d-4cf9-a9ff-11c7d5311b59 button');\n",
              "      quickchartButtonEl.style.display =\n",
              "        google.colab.kernel.accessAllowed ? 'block' : 'none';\n",
              "    })();\n",
              "  </script>\n",
              "</div>\n",
              "\n",
              "    </div>\n",
              "  </div>\n"
            ],
            "text/plain": [
              "           trip_ID visitor_nation age_bracket               travelling_with  \\\n",
              "0  tour_id8gzpck76          CONGO       25-44                         Alone   \n",
              "1  tour_idow1zxkou     SWIZERLAND       45-64                   With Spouse   \n",
              "2  tour_idue7esfqz         MEXICO       45-64  With Other Friends/Relatives   \n",
              "3  tour_idnj3mjzpb          JAPAN       25-44  With Other Friends/Relatives   \n",
              "4  tour_ida3us5yk2          SPAIN       25-44  With Other Friends/Relatives   \n",
              "\n",
              "   female_count  male_count      key_activity          trip_purpose  \\\n",
              "0           0.0         1.0   Widlife Tourism              Business   \n",
              "1           1.0         1.0   Widlife Tourism  Leisure and Holidays   \n",
              "2           2.0         0.0  Cultural Tourism  Leisure and Holidays   \n",
              "3           1.0         1.0   Widlife Tourism  Leisure and Holidays   \n",
              "4           2.0         0.0  Wildlife Tourism  Leisure and Holidays   \n",
              "\n",
              "  first_time_visitor  mainland_nights  ...  package_accomodation food_package  \\\n",
              "0                 No               14  ...                    No           No   \n",
              "1                Yes                8  ...                   Yes          Yes   \n",
              "2                Yes                3  ...                   Yes          Yes   \n",
              "3                Yes                5  ...                   Yes          Yes   \n",
              "4                Yes                0  ...                   Yes          Yes   \n",
              "\n",
              "  transport_package_mx sightseeing_package guided_tour_package  \\\n",
              "0                   No                  No                  No   \n",
              "1                   No                  No                 Yes   \n",
              "2                  Yes                 Yes                 Yes   \n",
              "3                  Yes                 Yes                 Yes   \n",
              "4                   No                 Yes                  No   \n",
              "\n",
              "  insurance_package days_before_booked weather_at_arrival tour_length  \\\n",
              "0                No             15-30              sunny,       15-30   \n",
              "1                No              61-90             Stormy         1-6   \n",
              "2                No               1-7              Stormy         30+   \n",
              "3                No                90+             sunny,        7-14   \n",
              "4               Yes              61-90             Stormy         30+   \n",
              "\n",
              "  special_requirements  \n",
              "0          wheelchair,  \n",
              "1                  NaN  \n",
              "2                 none  \n",
              "3                  NaN  \n",
              "4       dietary needs,  \n",
              "\n",
              "[5 rows x 24 columns]"
            ]
          },
          "execution_count": 121,
          "metadata": {},
          "output_type": "execute_result"
        }
      ],
      "source": [
        "df_test = pd.read_csv('/content/test.csv')\n",
        "df_test.head()"
      ]
    },
    {
      "cell_type": "code",
      "execution_count": null,
      "metadata": {
        "id": "YOSdKu--LZ4v"
      },
      "outputs": [],
      "source": [
        "df_test['total_group_size'] = df_test['female_count'] + df_test['male_count']\n",
        "df_test['total_nights'] = df_test['mainland_nights'] + df_test['island_nights']\n"
      ]
    },
    {
      "cell_type": "code",
      "execution_count": null,
      "metadata": {
        "id": "Yf515I5QNJsA"
      },
      "outputs": [],
      "source": [
        "df_test = df_test.drop(columns=['female_count'], inplace=False)\n",
        "df_test = df_test.drop(columns=['male_count'], inplace=False)"
      ]
    },
    {
      "cell_type": "markdown",
      "metadata": {
        "id": "4b4b3b9b"
      },
      "source": [
        "# Model Evaluation\n",
        "Assessing the model's performance and calculating metrics such as accuracy.\n",
        "\n",
        "**Accuracy of the model:** _To be updated_."
      ]
    },
    {
      "cell_type": "code",
      "execution_count": null,
      "metadata": {
        "id": "o51dlqSJNeMM"
      },
      "outputs": [],
      "source": [
        "df_test1 = df_test.drop(columns=['trip_ID'], inplace=False)"
      ]
    },
    {
      "cell_type": "code",
      "execution_count": null,
      "metadata": {
        "colab": {
          "base_uri": "https://localhost:8080/"
        },
        "id": "EMd9GyhdNuNG",
        "outputId": "924be8e9-3e21-40f6-e71e-0303cc1e5fd2"
      },
      "outputs": [
        {
          "name": "stdout",
          "output_type": "stream",
          "text": [
            "<class 'pandas.core.frame.DataFrame'>\n",
            "RangeIndex: 5852 entries, 0 to 5851\n",
            "Data columns (total 23 columns):\n",
            " #   Column                           Non-Null Count  Dtype  \n",
            "---  ------                           --------------  -----  \n",
            " 0   visitor_nation                   5726 non-null   object \n",
            " 1   age_bracket                      5852 non-null   object \n",
            " 2   travelling_with                  5514 non-null   object \n",
            " 3   key_activity                     5787 non-null   object \n",
            " 4   trip_purpose                     5852 non-null   object \n",
            " 5   first_time_visitor               5813 non-null   object \n",
            " 6   mainland_nights                  5852 non-null   int64  \n",
            " 7   island_nights                    5852 non-null   int64  \n",
            " 8   tour_arrangement                 5852 non-null   object \n",
            " 9   transport_package_international  5795 non-null   object \n",
            " 10  source_of_info                   5852 non-null   object \n",
            " 11  package_accomodation             5790 non-null   object \n",
            " 12  food_package                     5774 non-null   object \n",
            " 13  transport_package_mx             5852 non-null   object \n",
            " 14  sightseeing_package              5852 non-null   object \n",
            " 15  guided_tour_package              5852 non-null   object \n",
            " 16  insurance_package                5745 non-null   object \n",
            " 17  days_before_booked               5185 non-null   object \n",
            " 18  weather_at_arrival               4259 non-null   object \n",
            " 19  tour_length                      5699 non-null   object \n",
            " 20  special_requirements             2126 non-null   object \n",
            " 21  total_group_size                 5850 non-null   float64\n",
            " 22  total_nights                     5852 non-null   int64  \n",
            "dtypes: float64(1), int64(3), object(19)\n",
            "memory usage: 1.0+ MB\n"
          ]
        }
      ],
      "source": [
        "df_test1.info()"
      ]
    },
    {
      "cell_type": "code",
      "execution_count": null,
      "metadata": {
        "colab": {
          "base_uri": "https://localhost:8080/",
          "height": 805
        },
        "id": "3l6LTBm0pO50",
        "outputId": "3267714a-bee1-409b-fadf-902557cb5ee5"
      },
      "outputs": [
        {
          "data": {
            "text/html": [
              "<div>\n",
              "<style scoped>\n",
              "    .dataframe tbody tr th:only-of-type {\n",
              "        vertical-align: middle;\n",
              "    }\n",
              "\n",
              "    .dataframe tbody tr th {\n",
              "        vertical-align: top;\n",
              "    }\n",
              "\n",
              "    .dataframe thead th {\n",
              "        text-align: right;\n",
              "    }\n",
              "</style>\n",
              "<table border=\"1\" class=\"dataframe\">\n",
              "  <thead>\n",
              "    <tr style=\"text-align: right;\">\n",
              "      <th></th>\n",
              "      <th>0</th>\n",
              "    </tr>\n",
              "  </thead>\n",
              "  <tbody>\n",
              "    <tr>\n",
              "      <th>visitor_nation</th>\n",
              "      <td>126</td>\n",
              "    </tr>\n",
              "    <tr>\n",
              "      <th>age_bracket</th>\n",
              "      <td>0</td>\n",
              "    </tr>\n",
              "    <tr>\n",
              "      <th>travelling_with</th>\n",
              "      <td>338</td>\n",
              "    </tr>\n",
              "    <tr>\n",
              "      <th>key_activity</th>\n",
              "      <td>65</td>\n",
              "    </tr>\n",
              "    <tr>\n",
              "      <th>trip_purpose</th>\n",
              "      <td>0</td>\n",
              "    </tr>\n",
              "    <tr>\n",
              "      <th>first_time_visitor</th>\n",
              "      <td>39</td>\n",
              "    </tr>\n",
              "    <tr>\n",
              "      <th>mainland_nights</th>\n",
              "      <td>0</td>\n",
              "    </tr>\n",
              "    <tr>\n",
              "      <th>island_nights</th>\n",
              "      <td>0</td>\n",
              "    </tr>\n",
              "    <tr>\n",
              "      <th>tour_arrangement</th>\n",
              "      <td>0</td>\n",
              "    </tr>\n",
              "    <tr>\n",
              "      <th>transport_package_international</th>\n",
              "      <td>57</td>\n",
              "    </tr>\n",
              "    <tr>\n",
              "      <th>source_of_info</th>\n",
              "      <td>0</td>\n",
              "    </tr>\n",
              "    <tr>\n",
              "      <th>package_accomodation</th>\n",
              "      <td>62</td>\n",
              "    </tr>\n",
              "    <tr>\n",
              "      <th>food_package</th>\n",
              "      <td>78</td>\n",
              "    </tr>\n",
              "    <tr>\n",
              "      <th>transport_package_mx</th>\n",
              "      <td>0</td>\n",
              "    </tr>\n",
              "    <tr>\n",
              "      <th>sightseeing_package</th>\n",
              "      <td>0</td>\n",
              "    </tr>\n",
              "    <tr>\n",
              "      <th>guided_tour_package</th>\n",
              "      <td>0</td>\n",
              "    </tr>\n",
              "    <tr>\n",
              "      <th>insurance_package</th>\n",
              "      <td>107</td>\n",
              "    </tr>\n",
              "    <tr>\n",
              "      <th>days_before_booked</th>\n",
              "      <td>667</td>\n",
              "    </tr>\n",
              "    <tr>\n",
              "      <th>weather_at_arrival</th>\n",
              "      <td>1593</td>\n",
              "    </tr>\n",
              "    <tr>\n",
              "      <th>tour_length</th>\n",
              "      <td>153</td>\n",
              "    </tr>\n",
              "    <tr>\n",
              "      <th>special_requirements</th>\n",
              "      <td>3726</td>\n",
              "    </tr>\n",
              "    <tr>\n",
              "      <th>total_group_size</th>\n",
              "      <td>0</td>\n",
              "    </tr>\n",
              "    <tr>\n",
              "      <th>total_nights</th>\n",
              "      <td>0</td>\n",
              "    </tr>\n",
              "  </tbody>\n",
              "</table>\n",
              "</div><br><label><b>dtype:</b> int64</label>"
            ],
            "text/plain": [
              "visitor_nation                      126\n",
              "age_bracket                           0\n",
              "travelling_with                     338\n",
              "key_activity                         65\n",
              "trip_purpose                          0\n",
              "first_time_visitor                   39\n",
              "mainland_nights                       0\n",
              "island_nights                         0\n",
              "tour_arrangement                      0\n",
              "transport_package_international      57\n",
              "source_of_info                        0\n",
              "package_accomodation                 62\n",
              "food_package                         78\n",
              "transport_package_mx                  0\n",
              "sightseeing_package                   0\n",
              "guided_tour_package                   0\n",
              "insurance_package                   107\n",
              "days_before_booked                  667\n",
              "weather_at_arrival                 1593\n",
              "tour_length                         153\n",
              "special_requirements               3726\n",
              "total_group_size                      0\n",
              "total_nights                          0\n",
              "dtype: int64"
            ]
          },
          "execution_count": 130,
          "metadata": {},
          "output_type": "execute_result"
        }
      ],
      "source": [
        "df_test1.isnull().sum()"
      ]
    },
    {
      "cell_type": "code",
      "execution_count": null,
      "metadata": {
        "id": "TK11aRX_pjKp"
      },
      "outputs": [],
      "source": [
        "df_test1['total_group_size'].fillna('Unknown', inplace=True)"
      ]
    },
    {
      "cell_type": "code",
      "execution_count": null,
      "metadata": {
        "id": "DazwQ8ZNOIkU"
      },
      "outputs": [],
      "source": [
        "label_encoders = {}\n",
        "for column in df_test1.select_dtypes(include=['object']).columns:\n",
        "    le = LabelEncoder()\n",
        "    df_test1[column] = le.fit_transform(df_test1[column].astype(str))\n",
        "    label_encoders[column] = le"
      ]
    },
    {
      "cell_type": "code",
      "execution_count": null,
      "metadata": {
        "id": "YueDlj7iSgX3"
      },
      "outputs": [],
      "source": [
        "y_pred = rf_model.predict(df_test1)"
      ]
    },
    {
      "cell_type": "code",
      "execution_count": null,
      "metadata": {
        "id": "PsATS_KtlEUq"
      },
      "outputs": [],
      "source": [
        "y_pred = best_model.predict(df_test1)"
      ]
    },
    {
      "cell_type": "code",
      "execution_count": null,
      "metadata": {
        "id": "K4CGnxfkN0o6"
      },
      "outputs": [],
      "source": [
        "y_pred = xgb_model.predict(df_test1)"
      ]
    },
    {
      "cell_type": "code",
      "execution_count": null,
      "metadata": {
        "id": "5sOG9CsIX0UW"
      },
      "outputs": [],
      "source": [
        "y_pred = best_model.predict(df_test1)"
      ]
    },
    {
      "cell_type": "code",
      "execution_count": null,
      "metadata": {
        "id": "dsUYsxNnpH8E"
      },
      "outputs": [],
      "source": [
        "y_pred = ada_model.predict(df_test1)"
      ]
    },
    {
      "cell_type": "code",
      "execution_count": null,
      "metadata": {
        "id": "qYMsAfIEp5OT"
      },
      "outputs": [],
      "source": [
        "y_pred = gb_model.predict(df_test1)"
      ]
    },
    {
      "cell_type": "code",
      "execution_count": null,
      "metadata": {
        "id": "aHq6BKDSDC23"
      },
      "outputs": [],
      "source": [
        "y_pred = ensemble_model.predict(df_test1)"
      ]
    },
    {
      "cell_type": "code",
      "execution_count": null,
      "metadata": {
        "colab": {
          "base_uri": "https://localhost:8080/"
        },
        "id": "uHd1YVBmOCG0",
        "outputId": "f1c58cbb-21d5-47fb-915c-73b07d393981"
      },
      "outputs": [
        {
          "data": {
            "text/plain": [
              "array([1., 0., 0., ..., 0., 2., 1.])"
            ]
          },
          "execution_count": 133,
          "metadata": {},
          "output_type": "execute_result"
        }
      ],
      "source": [
        "y_pred"
      ]
    },
    {
      "cell_type": "code",
      "execution_count": null,
      "metadata": {
        "colab": {
          "base_uri": "https://localhost:8080/"
        },
        "id": "CXypDxc0OPwf",
        "outputId": "a6c7135d-441f-4829-e768-41f6639d25b1"
      },
      "outputs": [
        {
          "name": "stdout",
          "output_type": "stream",
          "text": [
            "CSV file saved at /content/predictions.csv\n"
          ]
        }
      ],
      "source": [
        "results_df = pd.DataFrame({\n",
        "    'trip_ID': df_test['trip_ID'],\n",
        "    'Predicted_Category': y_pred\n",
        "})\n",
        "\n",
        "# Convert to CSV\n",
        "results_csv_path = '/content/predictions.csv'\n",
        "results_df.to_csv(results_csv_path, index=False)\n",
        "\n",
        "print(f\"CSV file saved at {results_csv_path}\")"
      ]
    },
    {
      "cell_type": "markdown",
      "source": [
        "## Conclusion\n",
        "(The accuray are of kaggle submitions.)\n",
        "- **XGBoost** gives an accuracy of **67.08%**.\n",
        "- **Random Forest** gives an accuracy of **65.160%**.\n",
        "- **AdaBoost** gives an accuracy of **64.77%**.\n",
        "- **Gradient Boosting** gives an accuracy of **65.38%**.\n"
      ],
      "metadata": {
        "id": "J-xKh7snd9Sy"
      }
    }
  ],
  "metadata": {
    "colab": {
      "provenance": []
    },
    "kernelspec": {
      "display_name": "Python 3",
      "name": "python3"
    },
    "language_info": {
      "name": "python"
    }
  },
  "nbformat": 4,
  "nbformat_minor": 0
}